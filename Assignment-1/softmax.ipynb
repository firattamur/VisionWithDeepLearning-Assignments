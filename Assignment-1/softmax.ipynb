{
 "cells": [
  {
   "cell_type": "markdown",
   "metadata": {
    "tags": [
     "pdf-title"
    ]
   },
   "source": [
    "# Softmax exercise\n",
    "\n",
    "*Complete and hand in this completed worksheet (including its outputs and any supporting code outside of the worksheet) with your assignment submission. For more details see the course website.*\n",
    "\n",
    "This exercise is analogous to the SVM exercise. You will:\n",
    "\n",
    "- implement a fully-vectorized **loss function** for the Softmax classifier\n",
    "- implement the fully-vectorized expression for its **analytic gradient**\n",
    "- **check your implementation** with numerical gradient\n",
    "- use a validation set to **tune the learning rate and regularization** strength\n",
    "- **optimize** the loss function with **SGD**\n",
    "- **visualize** the final learned weights\n"
   ]
  },
  {
   "cell_type": "code",
   "execution_count": 1,
   "metadata": {
    "tags": [
     "pdf-ignore"
    ]
   },
   "outputs": [
    {
     "name": "stderr",
     "output_type": "stream",
     "text": [
      "In /Users/firattamur/opt/anaconda3/envs/comp411/lib/python3.7/site-packages/matplotlib/mpl-data/stylelib/_classic_test.mplstyle: \n",
      "The savefig.frameon rcparam was deprecated in Matplotlib 3.1 and will be removed in 3.3.\n",
      "In /Users/firattamur/opt/anaconda3/envs/comp411/lib/python3.7/site-packages/matplotlib/mpl-data/stylelib/_classic_test.mplstyle: \n",
      "The verbose.level rcparam was deprecated in Matplotlib 3.1 and will be removed in 3.3.\n",
      "In /Users/firattamur/opt/anaconda3/envs/comp411/lib/python3.7/site-packages/matplotlib/mpl-data/stylelib/_classic_test.mplstyle: \n",
      "The verbose.fileo rcparam was deprecated in Matplotlib 3.1 and will be removed in 3.3.\n"
     ]
    }
   ],
   "source": [
    "import random\n",
    "import numpy as np\n",
    "from comp411.data_utils import load_CIFAR10\n",
    "import matplotlib.pyplot as plt\n",
    "\n",
    "%matplotlib inline\n",
    "plt.rcParams['figure.figsize'] = (10.0, 8.0) # set default size of plots\n",
    "plt.rcParams['image.interpolation'] = 'nearest'\n",
    "plt.rcParams['image.cmap'] = 'gray'\n",
    "\n",
    "np.random.seed(42)\n",
    "\n",
    "# for auto-reloading extenrnal modules\n",
    "# see http://stackoverflow.com/questions/1907993/autoreload-of-modules-in-ipython\n",
    "%load_ext autoreload\n",
    "%autoreload 2"
   ]
  },
  {
   "cell_type": "code",
   "execution_count": 2,
   "metadata": {
    "tags": [
     "pdf-ignore"
    ]
   },
   "outputs": [
    {
     "name": "stdout",
     "output_type": "stream",
     "text": [
      "Train data shape:  (49000, 3073)\n",
      "Train labels shape:  (49000,)\n",
      "Validation data shape:  (1000, 3073)\n",
      "Validation labels shape:  (1000,)\n",
      "Test data shape:  (1000, 3073)\n",
      "Test labels shape:  (1000,)\n",
      "dev data shape:  (500, 3073)\n",
      "dev labels shape:  (500,)\n"
     ]
    }
   ],
   "source": [
    "def get_CIFAR10_data(num_training=49000, num_validation=1000, num_test=1000, num_dev=500):\n",
    "    \"\"\"\n",
    "    Load the CIFAR-10 dataset from disk and perform preprocessing to prepare\n",
    "    it for the linear classifier. These are the same steps as we used for the\n",
    "    SVM, but condensed to a single function.  \n",
    "    \"\"\"\n",
    "    # Load the raw CIFAR-10 data\n",
    "    cifar10_dir = 'comp411/datasets/cifar-10-batches-py'\n",
    "    \n",
    "    # Cleaning up variables to prevent loading data multiple times (which may cause memory issue)\n",
    "    try:\n",
    "       del X_train, y_train\n",
    "       del X_test, y_test\n",
    "       print('Clear previously loaded data.')\n",
    "    except:\n",
    "       pass\n",
    "\n",
    "    X_train, y_train, X_test, y_test = load_CIFAR10(cifar10_dir)\n",
    "    \n",
    "    # subsample the data\n",
    "    mask = list(range(num_training, num_training + num_validation))\n",
    "    X_val = X_train[mask]\n",
    "    y_val = y_train[mask]\n",
    "    mask = list(range(num_training))\n",
    "    X_train = X_train[mask]\n",
    "    y_train = y_train[mask]\n",
    "    mask = list(range(num_test))\n",
    "    X_test = X_test[mask]\n",
    "    y_test = y_test[mask]\n",
    "    mask = np.random.choice(num_training, num_dev, replace=False)\n",
    "    X_dev = X_train[mask]\n",
    "    y_dev = y_train[mask]\n",
    "    \n",
    "    # Preprocessing: reshape the image data into rows\n",
    "    X_train = np.reshape(X_train, (X_train.shape[0], -1))\n",
    "    X_val = np.reshape(X_val, (X_val.shape[0], -1))\n",
    "    X_test = np.reshape(X_test, (X_test.shape[0], -1))\n",
    "    X_dev = np.reshape(X_dev, (X_dev.shape[0], -1))\n",
    "    \n",
    "    # Normalize the data: subtract the mean image\n",
    "    mean_image = np.mean(X_train, axis = 0)\n",
    "    X_train -= mean_image\n",
    "    X_val -= mean_image\n",
    "    X_test -= mean_image\n",
    "    X_dev -= mean_image\n",
    "    \n",
    "    # add bias dimension and transform into columns\n",
    "    X_train = np.hstack([X_train, np.ones((X_train.shape[0], 1))])\n",
    "    X_val = np.hstack([X_val, np.ones((X_val.shape[0], 1))])\n",
    "    X_test = np.hstack([X_test, np.ones((X_test.shape[0], 1))])\n",
    "    X_dev = np.hstack([X_dev, np.ones((X_dev.shape[0], 1))])\n",
    "    \n",
    "    return X_train, y_train, X_val, y_val, X_test, y_test, X_dev, y_dev\n",
    "\n",
    "\n",
    "# Invoke the above function to get our data.\n",
    "X_train, y_train, X_val, y_val, X_test, y_test, X_dev, y_dev = get_CIFAR10_data()\n",
    "print('Train data shape: ', X_train.shape)\n",
    "print('Train labels shape: ', y_train.shape)\n",
    "print('Validation data shape: ', X_val.shape)\n",
    "print('Validation labels shape: ', y_val.shape)\n",
    "print('Test data shape: ', X_test.shape)\n",
    "print('Test labels shape: ', y_test.shape)\n",
    "print('dev data shape: ', X_dev.shape)\n",
    "print('dev labels shape: ', y_dev.shape)"
   ]
  },
  {
   "cell_type": "markdown",
   "metadata": {},
   "source": [
    "## Softmax Classifier\n",
    "\n",
    "Your code for this section will all be written inside **comp411/classifiers/softmax.py**. \n"
   ]
  },
  {
   "cell_type": "code",
   "execution_count": 3,
   "metadata": {},
   "outputs": [
    {
     "name": "stdout",
     "output_type": "stream",
     "text": [
      "loss: 2.393992\n",
      "sanity check: 2.302585\n"
     ]
    }
   ],
   "source": [
    "# First implement the naive softmax loss function with nested loops.\n",
    "# Open the file comp411/classifiers/softmax.py and implement the\n",
    "# softmax_loss_naive function.\n",
    "\n",
    "from comp411.classifiers.softmax import softmax_loss_naive\n",
    "import time\n",
    "\n",
    "# Generate a random softmax weight matrix and use it to compute the loss.\n",
    "W = np.random.randn(3073, 10) * 0.0001\n",
    "loss, grad = softmax_loss_naive(W, X_dev, y_dev, 0.0)\n",
    "\n",
    "# As a rough sanity check, our loss should be something close to -log(0.1).\n",
    "print('loss: %f' % loss)\n",
    "print('sanity check: %f' % (-np.log(0.1)))"
   ]
  },
  {
   "cell_type": "markdown",
   "metadata": {
    "tags": [
     "pdf-inline"
    ]
   },
   "source": [
    "**Inline Question 1**\n",
    "\n",
    "Why do we expect our loss to be close to -log(0.1)? Explain briefly.**\n",
    "\n",
    "$\\color{blue}{\\textit Your Answer:}$ \n",
    "\n",
    "- Because we start with small values for W in the first iteration W * x will be close to zero. if W * X is close to zero than e ^ (W * x ) will be close to 1. In the loss we have ( e ^ Wx / sum(e ^ Wx) ) this basically turns into ( 1 / C ) where C is the number of classes. \n"
   ]
  },
  {
   "cell_type": "code",
   "execution_count": 4,
   "metadata": {},
   "outputs": [
    {
     "name": "stdout",
     "output_type": "stream",
     "text": [
      "numerical: 1.281812 analytic: 1.281812, relative error: 7.186547e-08\n",
      "numerical: -0.901381 analytic: -0.901382, relative error: 1.081179e-07\n",
      "numerical: 0.328962 analytic: 0.328962, relative error: 9.066253e-08\n",
      "numerical: 2.524928 analytic: 2.524928, relative error: 2.242336e-08\n",
      "numerical: 2.556790 analytic: 2.556790, relative error: 2.737445e-08\n",
      "numerical: 0.539430 analytic: 0.539430, relative error: 1.165177e-07\n",
      "numerical: 0.342177 analytic: 0.342177, relative error: 4.392822e-08\n",
      "numerical: 2.080683 analytic: 2.080683, relative error: 2.414867e-08\n",
      "numerical: 0.473681 analytic: 0.473681, relative error: 5.881327e-08\n",
      "numerical: 5.129350 analytic: 5.129350, relative error: 6.929252e-09\n",
      "numerical: 4.856132 analytic: 4.856131, relative error: 1.887820e-08\n",
      "numerical: -2.730574 analytic: -2.730575, relative error: 1.310418e-08\n",
      "numerical: 0.002383 analytic: 0.002383, relative error: 1.108407e-05\n",
      "numerical: -0.019148 analytic: -0.019148, relative error: 3.485961e-07\n",
      "numerical: -0.592277 analytic: -0.592277, relative error: 4.908690e-08\n",
      "numerical: 0.445882 analytic: 0.445882, relative error: 9.984562e-08\n",
      "numerical: 1.314872 analytic: 1.314872, relative error: 6.184680e-08\n",
      "numerical: 4.559970 analytic: 4.559969, relative error: 2.852818e-08\n",
      "numerical: -0.846065 analytic: -0.846065, relative error: 6.447390e-08\n",
      "numerical: -1.053452 analytic: -1.053452, relative error: 2.535292e-08\n"
     ]
    }
   ],
   "source": [
    "# Complete the implementation of softmax_loss_naive and implement a (naive)\n",
    "# version of the gradient that uses nested loops.\n",
    "loss, grad = softmax_loss_naive(W, X_dev, y_dev, 0.0)\n",
    "\n",
    "# As we did for the SVM, use numeric gradient checking as a debugging tool.\n",
    "# The numeric gradient should be close to the analytic gradient.\n",
    "from comp411.gradient_check import grad_check_sparse\n",
    "f = lambda w: softmax_loss_naive(w, X_dev, y_dev, 0.0)[0]\n",
    "grad_numerical = grad_check_sparse(f, W, grad, 10)\n",
    "\n",
    "# similar to SVM case, do another gradient check with regularization\n",
    "loss, grad = softmax_loss_naive(W, X_dev, y_dev, 5e1)\n",
    "f = lambda w: softmax_loss_naive(w, X_dev, y_dev, 5e1)[0]\n",
    "grad_numerical = grad_check_sparse(f, W, grad, 10)"
   ]
  },
  {
   "cell_type": "code",
   "execution_count": 5,
   "metadata": {},
   "outputs": [
    {
     "name": "stdout",
     "output_type": "stream",
     "text": [
      "naive loss: 2.393992e+00 computed in 0.222707s\n",
      "vectorized loss: 2.393992e+00 computed in 0.006731s\n",
      "Loss difference: 0.000000\n",
      "Gradient difference: 0.000000\n"
     ]
    }
   ],
   "source": [
    "# Now that we have a naive implementation of the softmax loss function and its gradient,\n",
    "# implement a vectorized version in softmax_loss_vectorized.\n",
    "# The two versions should compute the same results, but the vectorized version should be\n",
    "# much faster.\n",
    "tic = time.time()\n",
    "loss_naive, grad_naive = softmax_loss_naive(W, X_dev, y_dev, 0.000005)\n",
    "toc = time.time()\n",
    "print('naive loss: %e computed in %fs' % (loss_naive, toc - tic))\n",
    "\n",
    "from comp411.classifiers.softmax import softmax_loss_vectorized\n",
    "tic = time.time()\n",
    "loss_vectorized, grad_vectorized = softmax_loss_vectorized(W, X_dev, y_dev, 0.000005)\n",
    "toc = time.time()\n",
    "print('vectorized loss: %e computed in %fs' % (loss_vectorized, toc - tic))\n",
    "\n",
    "# As we did for the SVM, we use the Frobenius norm to compare the two versions\n",
    "# of the gradient.\n",
    "grad_difference = np.linalg.norm(grad_naive - grad_vectorized, ord='fro')\n",
    "print('Loss difference: %f' % np.abs(loss_naive - loss_vectorized))\n",
    "print('Gradient difference: %f' % grad_difference)"
   ]
  },
  {
   "cell_type": "code",
   "execution_count": null,
   "metadata": {},
   "outputs": [],
   "source": []
  },
  {
   "cell_type": "code",
   "execution_count": 6,
   "metadata": {
    "tags": [
     "code"
    ]
   },
   "outputs": [
    {
     "name": "stdout",
     "output_type": "stream",
     "text": [
      "[(1e-07, 25000.0), (1e-07, 50000.0), (1e-07, 500.0), (5e-07, 25000.0), (5e-07, 50000.0), (5e-07, 500.0), (1.5e-06, 25000.0), (1.5e-06, 50000.0), (1.5e-06, 500.0)]\n",
      "iteration 0 / 1000: loss 779.792339\n",
      "iteration 100 / 1000: loss 286.486608\n",
      "iteration 200 / 1000: loss 106.155591\n",
      "iteration 300 / 1000: loss 40.224980\n",
      "iteration 400 / 1000: loss 16.020208\n",
      "iteration 500 / 1000: loss 7.286106\n",
      "iteration 600 / 1000: loss 3.972130\n",
      "iteration 700 / 1000: loss 2.763051\n",
      "iteration 800 / 1000: loss 2.281049\n",
      "iteration 900 / 1000: loss 2.244935\n",
      "iteration 0 / 1000: loss 1548.759200\n",
      "iteration 100 / 1000: loss 208.611031\n",
      "iteration 200 / 1000: loss 29.670999\n",
      "iteration 300 / 1000: loss 5.847549\n",
      "iteration 400 / 1000: loss 2.618918\n",
      "iteration 500 / 1000: loss 2.195953\n",
      "iteration 600 / 1000: loss 2.157634\n",
      "iteration 700 / 1000: loss 2.174586\n",
      "iteration 800 / 1000: loss 2.171826\n",
      "iteration 900 / 1000: loss 2.128570\n",
      "iteration 0 / 1000: loss 20.861128\n",
      "iteration 100 / 1000: loss 19.012671\n",
      "iteration 200 / 1000: loss 17.935488\n",
      "iteration 300 / 1000: loss 17.538355\n",
      "iteration 400 / 1000: loss 17.222726\n",
      "iteration 500 / 1000: loss 17.052239\n",
      "iteration 600 / 1000: loss 16.401027\n",
      "iteration 700 / 1000: loss 16.261127\n",
      "iteration 800 / 1000: loss 15.644770\n",
      "iteration 900 / 1000: loss 15.556886\n",
      "iteration 0 / 1000: loss 779.399260\n",
      "iteration 100 / 1000: loss 6.950064\n",
      "iteration 200 / 1000: loss 2.123984\n",
      "iteration 300 / 1000: loss 2.079972\n",
      "iteration 400 / 1000: loss 2.103163\n",
      "iteration 500 / 1000: loss 2.079017\n",
      "iteration 600 / 1000: loss 2.068933\n",
      "iteration 700 / 1000: loss 2.104166\n",
      "iteration 800 / 1000: loss 2.154908\n",
      "iteration 900 / 1000: loss 2.056609\n",
      "iteration 0 / 1000: loss 1541.791336\n",
      "iteration 100 / 1000: loss 2.150029\n",
      "iteration 200 / 1000: loss 2.156302\n",
      "iteration 300 / 1000: loss 2.162287\n",
      "iteration 400 / 1000: loss 2.146517\n",
      "iteration 500 / 1000: loss 2.133402\n",
      "iteration 600 / 1000: loss 2.097837\n",
      "iteration 700 / 1000: loss 2.099473\n",
      "iteration 800 / 1000: loss 2.140584\n",
      "iteration 900 / 1000: loss 2.169884\n",
      "iteration 0 / 1000: loss 20.395773\n",
      "iteration 100 / 1000: loss 16.735571\n",
      "iteration 200 / 1000: loss 14.926996\n",
      "iteration 300 / 1000: loss 13.627057\n",
      "iteration 400 / 1000: loss 12.251616\n",
      "iteration 500 / 1000: loss 11.328108\n",
      "iteration 600 / 1000: loss 10.439651\n",
      "iteration 700 / 1000: loss 9.593004\n",
      "iteration 800 / 1000: loss 8.777770\n",
      "iteration 900 / 1000: loss 7.980368\n",
      "iteration 0 / 1000: loss 782.686184\n",
      "iteration 100 / 1000: loss 2.122543\n",
      "iteration 200 / 1000: loss 2.094101\n",
      "iteration 300 / 1000: loss 2.167549\n",
      "iteration 400 / 1000: loss 2.099835\n",
      "iteration 500 / 1000: loss 2.099222\n",
      "iteration 600 / 1000: loss 2.175690\n",
      "iteration 700 / 1000: loss 2.060885\n",
      "iteration 800 / 1000: loss 2.088867\n",
      "iteration 900 / 1000: loss 2.127767\n",
      "iteration 0 / 1000: loss 1545.940938\n",
      "iteration 100 / 1000: loss 2.152078\n",
      "iteration 200 / 1000: loss 2.184977\n",
      "iteration 300 / 1000: loss 2.129441\n",
      "iteration 400 / 1000: loss 2.168871\n",
      "iteration 500 / 1000: loss 2.185018\n",
      "iteration 600 / 1000: loss 2.149103\n",
      "iteration 700 / 1000: loss 2.170077\n",
      "iteration 800 / 1000: loss 2.143106\n",
      "iteration 900 / 1000: loss 2.157154\n",
      "iteration 0 / 1000: loss 21.299555\n",
      "iteration 100 / 1000: loss 13.445523\n",
      "iteration 200 / 1000: loss 10.408810\n",
      "iteration 300 / 1000: loss 7.980495\n",
      "iteration 400 / 1000: loss 6.322739\n",
      "iteration 500 / 1000: loss 5.064053\n",
      "iteration 600 / 1000: loss 4.199524\n",
      "iteration 700 / 1000: loss 3.533927\n",
      "iteration 800 / 1000: loss 3.088316\n",
      "iteration 900 / 1000: loss 2.819896\n",
      "lr 1.000000e-07 reg 5.000000e+02 train accuracy: 0.234286 val accuracy: 0.218000\n",
      "lr 1.000000e-07 reg 2.500000e+04 train accuracy: 0.320837 val accuracy: 0.330000\n",
      "lr 1.000000e-07 reg 5.000000e+04 train accuracy: 0.307245 val accuracy: 0.324000\n",
      "lr 5.000000e-07 reg 5.000000e+02 train accuracy: 0.332245 val accuracy: 0.324000\n",
      "lr 5.000000e-07 reg 2.500000e+04 train accuracy: 0.321163 val accuracy: 0.327000\n",
      "lr 5.000000e-07 reg 5.000000e+04 train accuracy: 0.302898 val accuracy: 0.316000\n",
      "lr 1.500000e-06 reg 5.000000e+02 train accuracy: 0.398449 val accuracy: 0.399000\n",
      "lr 1.500000e-06 reg 2.500000e+04 train accuracy: 0.312061 val accuracy: 0.329000\n",
      "lr 1.500000e-06 reg 5.000000e+04 train accuracy: 0.285939 val accuracy: 0.302000\n",
      "best validation accuracy achieved during cross-validation: 0.399000\n"
     ]
    }
   ],
   "source": [
    "# Use the validation set to tune hyperparameters (regularization strength and\n",
    "# learning rate). You should experiment with different ranges for the learning\n",
    "# rates and regularization strengths; if you are careful you should be able to\n",
    "# get a classification accuracy of over 0.35 on the validation set.\n",
    "from comp411.classifiers import Softmax\n",
    "results = {}\n",
    "best_val = -1\n",
    "best_softmax = None\n",
    "learning_rates = [1e-7, 5e-7, 15e-7]\n",
    "regularization_strengths = [2.5e4, 5e4, 5e2]\n",
    "\n",
    "################################################################################\n",
    "# TODO:                                                                        #\n",
    "# Use the validation set to set the learning rate and regularization strength. #\n",
    "# This should be identical to the validation that you did for the SVM; save    #\n",
    "# the best trained softmax classifer in best_softmax.                          #\n",
    "################################################################################\n",
    "# *****START OF YOUR CODE (DO NOT DELETE/MODIFY THIS LINE)*****\n",
    "\n",
    "lr_reg_grid = [(lr, reg) for lr in learning_rates for reg in regularization_strengths]\n",
    "\n",
    "print(lr_reg_grid)\n",
    "\n",
    "for lr, reg in lr_reg_grid:\n",
    "    \n",
    "    # create classifier\n",
    "    softmax = Softmax()\n",
    "        \n",
    "    # training \n",
    "    softmax.train(X_train, y_train, learning_rate=lr, reg=reg, num_iters=1000, \n",
    "                 verbose=True)\n",
    "\n",
    "    pred_train = softmax.predict(X_train)\n",
    "    accuracy_train = np.mean(y_train == pred_train)\n",
    "    \n",
    "    pred_val = softmax.predict(X_val)\n",
    "    accuracy_val = np.mean(y_val == pred_val)\n",
    "\n",
    "    results[(lr, reg)] = [accuracy_train, accuracy_val]\n",
    "    \n",
    "    if accuracy_val > best_val:\n",
    "        best_val = accuracy_val\n",
    "        best_softmax = softmax\n",
    "\n",
    "\n",
    "# *****END OF YOUR CODE (DO NOT DELETE/MODIFY THIS LINE)*****\n",
    "    \n",
    "# Print out results.\n",
    "for lr, reg in sorted(results):\n",
    "    train_accuracy, val_accuracy = results[(lr, reg)]\n",
    "    print('lr %e reg %e train accuracy: %f val accuracy: %f' % (\n",
    "                lr, reg, train_accuracy, val_accuracy))\n",
    "    \n",
    "print('best validation accuracy achieved during cross-validation: %f' % best_val)"
   ]
  },
  {
   "cell_type": "code",
   "execution_count": 7,
   "metadata": {},
   "outputs": [
    {
     "name": "stdout",
     "output_type": "stream",
     "text": [
      "softmax on raw pixels final test set accuracy: 0.398000\n"
     ]
    }
   ],
   "source": [
    "# evaluate on test set\n",
    "# Evaluate the best softmax on test set\n",
    "y_test_pred = best_softmax.predict(X_test)\n",
    "test_accuracy = np.mean(y_test == y_test_pred)\n",
    "print('softmax on raw pixels final test set accuracy: %f' % (test_accuracy, ))"
   ]
  },
  {
   "cell_type": "markdown",
   "metadata": {
    "tags": [
     "pdf-inline"
    ]
   },
   "source": [
    "**Inline Question 2** - *True or False*\n",
    "\n",
    "Suppose the overall training loss is defined as the sum of the per-datapoint loss over all training examples. It is possible to add a new datapoint to a training set that would leave the SVM loss unchanged, but this is not the case with the Softmax classifier loss.\n",
    "\n",
    "$\\color{blue}{\\textit Your Answer:}$ \n",
    "\n",
    "True\n",
    "\n",
    "$\\color{blue}{\\textit Your Explanation:}$\n",
    "\n",
    "If the difference between true class and the other is high the SVM loss does not have any penalty. It simply adding 0 zero loss. However, in the Softmax function it affected by all data points even with high difference between true and other classes.\n"
   ]
  },
  {
   "cell_type": "code",
   "execution_count": 8,
   "metadata": {},
   "outputs": [
    {
     "data": {
      "image/png": "[encoded data removed]",
      "text/plain": [
       "<Figure size 432x288 with 10 Axes>"
      ]
     },
     "metadata": {
      "needs_background": "light"
     },
     "output_type": "display_data"
    }
   ],
   "source": [
    "# Visualize the learned weights for each class\n",
    "w = best_softmax.W[:-1,:] # strip out the bias\n",
    "w = w.reshape(32, 32, 3, 10)\n",
    "\n",
    "w_min, w_max = np.min(w), np.max(w)\n",
    "\n",
    "classes = ['plane', 'car', 'bird', 'cat', 'deer', 'dog', 'frog', 'horse', 'ship', 'truck']\n",
    "for i in range(10):\n",
    "    plt.subplot(2, 5, i + 1)\n",
    "    \n",
    "    # Rescale the weights to be between 0 and 255\n",
    "    wimg = 255.0 * (w[:, :, :, i].squeeze() - w_min) / (w_max - w_min)\n",
    "    plt.imshow(wimg.astype('uint8'))\n",
    "    plt.axis('off')\n",
    "    plt.title(classes[i])"
   ]
  },
  {
   "cell_type": "code",
   "execution_count": null,
   "metadata": {},
   "outputs": [],
   "source": []
  }
 ],
 "metadata": {
  "kernelspec": {
   "display_name": "Python 3",
   "language": "python",
   "name": "python3"
  },
  "language_info": {
   "codemirror_mode": {
    "name": "ipython",
    "version": 3
   },
   "file_extension": ".py",
   "mimetype": "text/x-python",
   "name": "python",
   "nbconvert_exporter": "python",
   "pygments_lexer": "ipython3",
   "version": "3.7.10"
  },
  "varInspector": {
   "cols": {
    "lenName": 16,
    "lenType": 16,
    "lenVar": 40
   },
   "kernels_config": {
    "python": {
     "delete_cmd_postfix": "",
     "delete_cmd_prefix": "del ",
     "library": "var_list.py",
     "varRefreshCmd": "print(var_dic_list())"
    },
    "r": {
     "delete_cmd_postfix": ") ",
     "delete_cmd_prefix": "rm(",
     "library": "var_list.r",
     "varRefreshCmd": "cat(var_dic_list()) "
    }
   },
   "types_to_exclude": [
    "module",
    "function",
    "builtin_function_or_method",
    "instance",
    "_Feature"
   ],
   "window_display": false
  }
 },
 "nbformat": 4,
 "nbformat_minor": 1
}
